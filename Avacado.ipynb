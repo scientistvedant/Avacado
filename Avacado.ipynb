{
 "cells": [
  {
   "cell_type": "markdown",
   "id": "f1108aba",
   "metadata": {},
   "source": [
    "### Avacado Project\n",
    "\n",
    "##### Problem Statement:\n",
    "''' Avocado is a fruit consumed by people heavily in the United States.''' \n",
    "\n",
    "Content\n",
    "* This data was downloaded from the Hass Avocado Board website in May of 2018 & compiled into a single CSV. \n",
    "* The table below represents weekly 2018 retail scan data for National retail volume (units) and price. Retail scan data comes directly from retailers’ cash registers based on actual retail sales of Hass avocados. \n",
    "* Starting in 2013, the table below reflects an expanded, multi-outlet retail data set. Multi-outlet reporting includes an aggregation of the following channels: grocery, mass, club, drug, dollar and military. The Average Price (of avocados) in the table reflects a per unit (per avocado) cost, even when multiple units (avocados) are sold in bags. \n",
    "\n",
    "The Product Lookup codes (PLU’s) in the table are only for Hass avocados. Other varieties of avocados (e.g. greenskins) are not included in this table.\n",
    "\n",
    "Some relevant columns in the dataset:\n",
    "\n",
    "* Date - The date of the observation\n",
    "* AveragePrice - the average price of a single avocado\n",
    "* type - conventional or organic\n",
    "* year - the year\n",
    "* Region - the city or region of the observation\n",
    "* Total Volume - Total number of avocados sold\n",
    "* 4046 - Total number of avocados with PLU 4046 sold\n",
    "* 4225 - Total number of avocados with PLU 4225 sold\n",
    "* 4770 - Total number of avocados with PLU 4770 sold"
   ]
  },
  {
   "cell_type": "markdown",
   "id": "8bf6b272",
   "metadata": {},
   "source": [
    "### Importing the Necessary Libraries\n",
    "* Its always better to import all the libraries at one go and it becomes easier."
   ]
  },
  {
   "cell_type": "code",
   "execution_count": 399,
   "id": "1f38a9e6",
   "metadata": {},
   "outputs": [],
   "source": [
    "import pandas as pd\n",
    "import numpy as np\n",
    "import matplotlib.pyplot as plt\n",
    "import seaborn as sns\n",
    "import missingno as msno\n",
    "from sklearn.metrics import accuracy_score, classification_report, confusion_matrix,roc_auc_score,roc_curve,r2_score\n",
    "from sklearn.linear_model import LinearRegression\n",
    "from sklearn.naive_bayes import GaussianNB\n",
    "from sklearn.neighbors import KNeighborsRegressor\n",
    "from sklearn.svm import SVC\n",
    "from sklearn.tree import DecisionTreeRegressor\n",
    "from sklearn.ensemble import AdaBoostRegressor, GradientBoostingRegressor\n",
    "from sklearn.preprocessing import LabelEncoder, StandardScaler\n",
    "from sklearn.model_selection import cross_val_score, train_test_split,GridSearchCV \n",
    "import joblib\n",
    "from sklearn.decomposition import PCA\n",
    "from scipy.stats import zscore\n",
    "import warnings\n",
    "warnings.filterwarnings('ignore')"
   ]
  },
  {
   "cell_type": "markdown",
   "id": "3b91b53f",
   "metadata": {},
   "source": [
    "### Loading the Dataset into variable:"
   ]
  },
  {
   "cell_type": "code",
   "execution_count": 355,
   "id": "15cf0763",
   "metadata": {},
   "outputs": [
    {
     "data": {
      "text/html": [
       "<div>\n",
       "<style scoped>\n",
       "    .dataframe tbody tr th:only-of-type {\n",
       "        vertical-align: middle;\n",
       "    }\n",
       "\n",
       "    .dataframe tbody tr th {\n",
       "        vertical-align: top;\n",
       "    }\n",
       "\n",
       "    .dataframe thead th {\n",
       "        text-align: right;\n",
       "    }\n",
       "</style>\n",
       "<table border=\"1\" class=\"dataframe\">\n",
       "  <thead>\n",
       "    <tr style=\"text-align: right;\">\n",
       "      <th></th>\n",
       "      <th>Unnamed: 0</th>\n",
       "      <th>Date</th>\n",
       "      <th>AveragePrice</th>\n",
       "      <th>Total Volume</th>\n",
       "      <th>4046</th>\n",
       "      <th>4225</th>\n",
       "      <th>4770</th>\n",
       "      <th>Total Bags</th>\n",
       "      <th>Small Bags</th>\n",
       "      <th>Large Bags</th>\n",
       "      <th>XLarge Bags</th>\n",
       "      <th>type</th>\n",
       "      <th>year</th>\n",
       "      <th>region</th>\n",
       "    </tr>\n",
       "  </thead>\n",
       "  <tbody>\n",
       "    <tr>\n",
       "      <th>0</th>\n",
       "      <td>0.0</td>\n",
       "      <td>27-12-2015</td>\n",
       "      <td>1.33</td>\n",
       "      <td>64236.62</td>\n",
       "      <td>1036.74</td>\n",
       "      <td>54454.85</td>\n",
       "      <td>48.16</td>\n",
       "      <td>8696.87</td>\n",
       "      <td>8603.62</td>\n",
       "      <td>93.25</td>\n",
       "      <td>0.0</td>\n",
       "      <td>conventional</td>\n",
       "      <td>2015.0</td>\n",
       "      <td>Albany</td>\n",
       "    </tr>\n",
       "    <tr>\n",
       "      <th>1</th>\n",
       "      <td>1.0</td>\n",
       "      <td>20-12-2015</td>\n",
       "      <td>1.35</td>\n",
       "      <td>54876.98</td>\n",
       "      <td>674.28</td>\n",
       "      <td>44638.81</td>\n",
       "      <td>58.33</td>\n",
       "      <td>9505.56</td>\n",
       "      <td>9408.07</td>\n",
       "      <td>97.49</td>\n",
       "      <td>0.0</td>\n",
       "      <td>conventional</td>\n",
       "      <td>2015.0</td>\n",
       "      <td>Albany</td>\n",
       "    </tr>\n",
       "    <tr>\n",
       "      <th>2</th>\n",
       "      <td>2.0</td>\n",
       "      <td>13-12-2015</td>\n",
       "      <td>0.93</td>\n",
       "      <td>118220.22</td>\n",
       "      <td>794.70</td>\n",
       "      <td>109149.67</td>\n",
       "      <td>130.50</td>\n",
       "      <td>8145.35</td>\n",
       "      <td>8042.21</td>\n",
       "      <td>103.14</td>\n",
       "      <td>0.0</td>\n",
       "      <td>conventional</td>\n",
       "      <td>2015.0</td>\n",
       "      <td>Albany</td>\n",
       "    </tr>\n",
       "    <tr>\n",
       "      <th>3</th>\n",
       "      <td>3.0</td>\n",
       "      <td>06-12-2015</td>\n",
       "      <td>1.08</td>\n",
       "      <td>78992.15</td>\n",
       "      <td>1132.00</td>\n",
       "      <td>71976.41</td>\n",
       "      <td>72.58</td>\n",
       "      <td>5811.16</td>\n",
       "      <td>5677.40</td>\n",
       "      <td>133.76</td>\n",
       "      <td>0.0</td>\n",
       "      <td>conventional</td>\n",
       "      <td>2015.0</td>\n",
       "      <td>Albany</td>\n",
       "    </tr>\n",
       "    <tr>\n",
       "      <th>4</th>\n",
       "      <td>4.0</td>\n",
       "      <td>29-11-2015</td>\n",
       "      <td>1.28</td>\n",
       "      <td>51039.60</td>\n",
       "      <td>941.48</td>\n",
       "      <td>43838.39</td>\n",
       "      <td>75.78</td>\n",
       "      <td>6183.95</td>\n",
       "      <td>5986.26</td>\n",
       "      <td>197.69</td>\n",
       "      <td>0.0</td>\n",
       "      <td>conventional</td>\n",
       "      <td>2015.0</td>\n",
       "      <td>Albany</td>\n",
       "    </tr>\n",
       "  </tbody>\n",
       "</table>\n",
       "</div>"
      ],
      "text/plain": [
       "   Unnamed: 0        Date  AveragePrice  Total Volume     4046       4225  \\\n",
       "0         0.0  27-12-2015          1.33      64236.62  1036.74   54454.85   \n",
       "1         1.0  20-12-2015          1.35      54876.98   674.28   44638.81   \n",
       "2         2.0  13-12-2015          0.93     118220.22   794.70  109149.67   \n",
       "3         3.0  06-12-2015          1.08      78992.15  1132.00   71976.41   \n",
       "4         4.0  29-11-2015          1.28      51039.60   941.48   43838.39   \n",
       "\n",
       "     4770  Total Bags  Small Bags  Large Bags  XLarge Bags          type  \\\n",
       "0   48.16     8696.87     8603.62       93.25          0.0  conventional   \n",
       "1   58.33     9505.56     9408.07       97.49          0.0  conventional   \n",
       "2  130.50     8145.35     8042.21      103.14          0.0  conventional   \n",
       "3   72.58     5811.16     5677.40      133.76          0.0  conventional   \n",
       "4   75.78     6183.95     5986.26      197.69          0.0  conventional   \n",
       "\n",
       "     year  region  \n",
       "0  2015.0  Albany  \n",
       "1  2015.0  Albany  \n",
       "2  2015.0  Albany  \n",
       "3  2015.0  Albany  \n",
       "4  2015.0  Albany  "
      ]
     },
     "execution_count": 355,
     "metadata": {},
     "output_type": "execute_result"
    }
   ],
   "source": [
    "df = pd.read_csv('Avacado.csv')\n",
    "df.head()"
   ]
  },
  {
   "cell_type": "markdown",
   "id": "af415fa4",
   "metadata": {},
   "source": [
    "I am loading the dataset into variable i.e.'df' and processing the first 5 rows. As in this data set most of the columns are float in nature."
   ]
  },
  {
   "cell_type": "markdown",
   "id": "e47984c6",
   "metadata": {},
   "source": [
    "# EDA"
   ]
  },
  {
   "cell_type": "code",
   "execution_count": 356,
   "id": "291b016c",
   "metadata": {},
   "outputs": [
    {
     "data": {
      "text/html": [
       "<div>\n",
       "<style scoped>\n",
       "    .dataframe tbody tr th:only-of-type {\n",
       "        vertical-align: middle;\n",
       "    }\n",
       "\n",
       "    .dataframe tbody tr th {\n",
       "        vertical-align: top;\n",
       "    }\n",
       "\n",
       "    .dataframe thead th {\n",
       "        text-align: right;\n",
       "    }\n",
       "</style>\n",
       "<table border=\"1\" class=\"dataframe\">\n",
       "  <thead>\n",
       "    <tr style=\"text-align: right;\">\n",
       "      <th></th>\n",
       "      <th>Date</th>\n",
       "      <th>AveragePrice</th>\n",
       "      <th>Total Volume</th>\n",
       "      <th>4046</th>\n",
       "      <th>4225</th>\n",
       "      <th>4770</th>\n",
       "      <th>Total Bags</th>\n",
       "      <th>Small Bags</th>\n",
       "      <th>Large Bags</th>\n",
       "      <th>XLarge Bags</th>\n",
       "      <th>type</th>\n",
       "      <th>year</th>\n",
       "      <th>region</th>\n",
       "    </tr>\n",
       "  </thead>\n",
       "  <tbody>\n",
       "    <tr>\n",
       "      <th>0</th>\n",
       "      <td>27-12-2015</td>\n",
       "      <td>1.33</td>\n",
       "      <td>64236.62</td>\n",
       "      <td>1036.74</td>\n",
       "      <td>54454.85</td>\n",
       "      <td>48.16</td>\n",
       "      <td>8696.87</td>\n",
       "      <td>8603.62</td>\n",
       "      <td>93.25</td>\n",
       "      <td>0.0</td>\n",
       "      <td>conventional</td>\n",
       "      <td>2015.0</td>\n",
       "      <td>Albany</td>\n",
       "    </tr>\n",
       "    <tr>\n",
       "      <th>1</th>\n",
       "      <td>20-12-2015</td>\n",
       "      <td>1.35</td>\n",
       "      <td>54876.98</td>\n",
       "      <td>674.28</td>\n",
       "      <td>44638.81</td>\n",
       "      <td>58.33</td>\n",
       "      <td>9505.56</td>\n",
       "      <td>9408.07</td>\n",
       "      <td>97.49</td>\n",
       "      <td>0.0</td>\n",
       "      <td>conventional</td>\n",
       "      <td>2015.0</td>\n",
       "      <td>Albany</td>\n",
       "    </tr>\n",
       "    <tr>\n",
       "      <th>2</th>\n",
       "      <td>13-12-2015</td>\n",
       "      <td>0.93</td>\n",
       "      <td>118220.22</td>\n",
       "      <td>794.70</td>\n",
       "      <td>109149.67</td>\n",
       "      <td>130.50</td>\n",
       "      <td>8145.35</td>\n",
       "      <td>8042.21</td>\n",
       "      <td>103.14</td>\n",
       "      <td>0.0</td>\n",
       "      <td>conventional</td>\n",
       "      <td>2015.0</td>\n",
       "      <td>Albany</td>\n",
       "    </tr>\n",
       "    <tr>\n",
       "      <th>3</th>\n",
       "      <td>06-12-2015</td>\n",
       "      <td>1.08</td>\n",
       "      <td>78992.15</td>\n",
       "      <td>1132.00</td>\n",
       "      <td>71976.41</td>\n",
       "      <td>72.58</td>\n",
       "      <td>5811.16</td>\n",
       "      <td>5677.40</td>\n",
       "      <td>133.76</td>\n",
       "      <td>0.0</td>\n",
       "      <td>conventional</td>\n",
       "      <td>2015.0</td>\n",
       "      <td>Albany</td>\n",
       "    </tr>\n",
       "    <tr>\n",
       "      <th>4</th>\n",
       "      <td>29-11-2015</td>\n",
       "      <td>1.28</td>\n",
       "      <td>51039.60</td>\n",
       "      <td>941.48</td>\n",
       "      <td>43838.39</td>\n",
       "      <td>75.78</td>\n",
       "      <td>6183.95</td>\n",
       "      <td>5986.26</td>\n",
       "      <td>197.69</td>\n",
       "      <td>0.0</td>\n",
       "      <td>conventional</td>\n",
       "      <td>2015.0</td>\n",
       "      <td>Albany</td>\n",
       "    </tr>\n",
       "  </tbody>\n",
       "</table>\n",
       "</div>"
      ],
      "text/plain": [
       "         Date  AveragePrice  Total Volume     4046       4225    4770  \\\n",
       "0  27-12-2015          1.33      64236.62  1036.74   54454.85   48.16   \n",
       "1  20-12-2015          1.35      54876.98   674.28   44638.81   58.33   \n",
       "2  13-12-2015          0.93     118220.22   794.70  109149.67  130.50   \n",
       "3  06-12-2015          1.08      78992.15  1132.00   71976.41   72.58   \n",
       "4  29-11-2015          1.28      51039.60   941.48   43838.39   75.78   \n",
       "\n",
       "   Total Bags  Small Bags  Large Bags  XLarge Bags          type    year  \\\n",
       "0     8696.87     8603.62       93.25          0.0  conventional  2015.0   \n",
       "1     9505.56     9408.07       97.49          0.0  conventional  2015.0   \n",
       "2     8145.35     8042.21      103.14          0.0  conventional  2015.0   \n",
       "3     5811.16     5677.40      133.76          0.0  conventional  2015.0   \n",
       "4     6183.95     5986.26      197.69          0.0  conventional  2015.0   \n",
       "\n",
       "   region  \n",
       "0  Albany  \n",
       "1  Albany  \n",
       "2  Albany  \n",
       "3  Albany  \n",
       "4  Albany  "
      ]
     },
     "execution_count": 356,
     "metadata": {},
     "output_type": "execute_result"
    }
   ],
   "source": [
    "# lets drop the Unnamed: 0 column because it just kind of id which has no effect on dataset \n",
    "df.drop('Unnamed: 0',axis=1,inplace=True)\n",
    "df.head()"
   ]
  },
  {
   "cell_type": "code",
   "execution_count": 357,
   "id": "42aba2f9",
   "metadata": {},
   "outputs": [
    {
     "data": {
      "text/plain": [
       "(16468, 13)"
      ]
     },
     "execution_count": 357,
     "metadata": {},
     "output_type": "execute_result"
    }
   ],
   "source": [
    "#Checking the total rows and total columns\n",
    "df.shape"
   ]
  },
  {
   "cell_type": "code",
   "execution_count": 358,
   "id": "8fa49258",
   "metadata": {},
   "outputs": [
    {
     "data": {
      "text/plain": [
       "Index(['Date', 'AveragePrice', 'Total Volume', '4046', '4225', '4770',\n",
       "       'Total Bags', 'Small Bags', 'Large Bags', 'XLarge Bags', 'type', 'year',\n",
       "       'region'],\n",
       "      dtype='object')"
      ]
     },
     "execution_count": 358,
     "metadata": {},
     "output_type": "execute_result"
    }
   ],
   "source": [
    "df.columns"
   ]
  },
  {
   "cell_type": "code",
   "execution_count": 359,
   "id": "053c5f5c",
   "metadata": {},
   "outputs": [
    {
     "data": {
      "text/plain": [
       "Date             object\n",
       "AveragePrice    float64\n",
       "Total Volume    float64\n",
       "4046            float64\n",
       "4225            float64\n",
       "4770            float64\n",
       "Total Bags      float64\n",
       "Small Bags      float64\n",
       "Large Bags      float64\n",
       "XLarge Bags     float64\n",
       "type             object\n",
       "year            float64\n",
       "region           object\n",
       "dtype: object"
      ]
     },
     "execution_count": 359,
     "metadata": {},
     "output_type": "execute_result"
    }
   ],
   "source": [
    "df.dtypes"
   ]
  },
  {
   "cell_type": "markdown",
   "id": "fd575867",
   "metadata": {},
   "source": [
    "* As seen in data set there was one index column which does not paly any importance role for prediction in the price of avocado, so I had dropped that column.\n",
    "\n",
    "* Also, I checked for the shape of the dataset as there are 16468 rows and 13 columns after deleting the index column.\n",
    "\n",
    "* Also, most of the columns are of same data type that is float, Date, type and region are of object data type."
   ]
  },
  {
   "cell_type": "code",
   "execution_count": 360,
   "id": "16027bcd",
   "metadata": {},
   "outputs": [
    {
     "data": {
      "text/plain": [
       "<AxesSubplot:>"
      ]
     },
     "execution_count": 360,
     "metadata": {},
     "output_type": "execute_result"
    },
    {
     "data": {
      "image/png": "[encoded data removed]",
      "text/plain": [
       "<Figure size 432x288 with 2 Axes>"
      ]
     },
     "metadata": {
      "needs_background": "light"
     },
     "output_type": "display_data"
    }
   ],
   "source": [
    "#checking null values using heatmap\n",
    "sns.heatmap(df.isnull())"
   ]
  },
  {
   "cell_type": "markdown",
   "id": "42308abf",
   "metadata": {},
   "source": [
    "* As we can see there are lots of missing values in all the columns, I will drop all the null values here as all the missing values in rows are equal in all the columns"
   ]
  },
  {
   "cell_type": "code",
   "execution_count": 361,
   "id": "d213691b",
   "metadata": {},
   "outputs": [
    {
     "data": {
      "text/html": [
       "<div>\n",
       "<style scoped>\n",
       "    .dataframe tbody tr th:only-of-type {\n",
       "        vertical-align: middle;\n",
       "    }\n",
       "\n",
       "    .dataframe tbody tr th {\n",
       "        vertical-align: top;\n",
       "    }\n",
       "\n",
       "    .dataframe thead th {\n",
       "        text-align: right;\n",
       "    }\n",
       "</style>\n",
       "<table border=\"1\" class=\"dataframe\">\n",
       "  <thead>\n",
       "    <tr style=\"text-align: right;\">\n",
       "      <th></th>\n",
       "      <th>Date</th>\n",
       "      <th>AveragePrice</th>\n",
       "      <th>Total Volume</th>\n",
       "      <th>4046</th>\n",
       "      <th>4225</th>\n",
       "      <th>4770</th>\n",
       "      <th>Total Bags</th>\n",
       "      <th>Small Bags</th>\n",
       "      <th>Large Bags</th>\n",
       "      <th>XLarge Bags</th>\n",
       "      <th>type</th>\n",
       "      <th>year</th>\n",
       "      <th>region</th>\n",
       "    </tr>\n",
       "  </thead>\n",
       "  <tbody>\n",
       "    <tr>\n",
       "      <th>0</th>\n",
       "      <td>27-12-2015</td>\n",
       "      <td>1.33</td>\n",
       "      <td>64236.62</td>\n",
       "      <td>1036.74</td>\n",
       "      <td>54454.85</td>\n",
       "      <td>48.16</td>\n",
       "      <td>8696.87</td>\n",
       "      <td>8603.62</td>\n",
       "      <td>93.25</td>\n",
       "      <td>0.0</td>\n",
       "      <td>conventional</td>\n",
       "      <td>2015.0</td>\n",
       "      <td>Albany</td>\n",
       "    </tr>\n",
       "    <tr>\n",
       "      <th>1</th>\n",
       "      <td>20-12-2015</td>\n",
       "      <td>1.35</td>\n",
       "      <td>54876.98</td>\n",
       "      <td>674.28</td>\n",
       "      <td>44638.81</td>\n",
       "      <td>58.33</td>\n",
       "      <td>9505.56</td>\n",
       "      <td>9408.07</td>\n",
       "      <td>97.49</td>\n",
       "      <td>0.0</td>\n",
       "      <td>conventional</td>\n",
       "      <td>2015.0</td>\n",
       "      <td>Albany</td>\n",
       "    </tr>\n",
       "    <tr>\n",
       "      <th>2</th>\n",
       "      <td>13-12-2015</td>\n",
       "      <td>0.93</td>\n",
       "      <td>118220.22</td>\n",
       "      <td>794.70</td>\n",
       "      <td>109149.67</td>\n",
       "      <td>130.50</td>\n",
       "      <td>8145.35</td>\n",
       "      <td>8042.21</td>\n",
       "      <td>103.14</td>\n",
       "      <td>0.0</td>\n",
       "      <td>conventional</td>\n",
       "      <td>2015.0</td>\n",
       "      <td>Albany</td>\n",
       "    </tr>\n",
       "    <tr>\n",
       "      <th>3</th>\n",
       "      <td>06-12-2015</td>\n",
       "      <td>1.08</td>\n",
       "      <td>78992.15</td>\n",
       "      <td>1132.00</td>\n",
       "      <td>71976.41</td>\n",
       "      <td>72.58</td>\n",
       "      <td>5811.16</td>\n",
       "      <td>5677.40</td>\n",
       "      <td>133.76</td>\n",
       "      <td>0.0</td>\n",
       "      <td>conventional</td>\n",
       "      <td>2015.0</td>\n",
       "      <td>Albany</td>\n",
       "    </tr>\n",
       "    <tr>\n",
       "      <th>4</th>\n",
       "      <td>29-11-2015</td>\n",
       "      <td>1.28</td>\n",
       "      <td>51039.60</td>\n",
       "      <td>941.48</td>\n",
       "      <td>43838.39</td>\n",
       "      <td>75.78</td>\n",
       "      <td>6183.95</td>\n",
       "      <td>5986.26</td>\n",
       "      <td>197.69</td>\n",
       "      <td>0.0</td>\n",
       "      <td>conventional</td>\n",
       "      <td>2015.0</td>\n",
       "      <td>Albany</td>\n",
       "    </tr>\n",
       "  </tbody>\n",
       "</table>\n",
       "</div>"
      ],
      "text/plain": [
       "         Date  AveragePrice  Total Volume     4046       4225    4770  \\\n",
       "0  27-12-2015          1.33      64236.62  1036.74   54454.85   48.16   \n",
       "1  20-12-2015          1.35      54876.98   674.28   44638.81   58.33   \n",
       "2  13-12-2015          0.93     118220.22   794.70  109149.67  130.50   \n",
       "3  06-12-2015          1.08      78992.15  1132.00   71976.41   72.58   \n",
       "4  29-11-2015          1.28      51039.60   941.48   43838.39   75.78   \n",
       "\n",
       "   Total Bags  Small Bags  Large Bags  XLarge Bags          type    year  \\\n",
       "0     8696.87     8603.62       93.25          0.0  conventional  2015.0   \n",
       "1     9505.56     9408.07       97.49          0.0  conventional  2015.0   \n",
       "2     8145.35     8042.21      103.14          0.0  conventional  2015.0   \n",
       "3     5811.16     5677.40      133.76          0.0  conventional  2015.0   \n",
       "4     6183.95     5986.26      197.69          0.0  conventional  2015.0   \n",
       "\n",
       "   region  \n",
       "0  Albany  \n",
       "1  Albany  \n",
       "2  Albany  \n",
       "3  Albany  \n",
       "4  Albany  "
      ]
     },
     "execution_count": 361,
     "metadata": {},
     "output_type": "execute_result"
    }
   ],
   "source": [
    "df = df.dropna()\n",
    "df.head()"
   ]
  },
  {
   "cell_type": "code",
   "execution_count": 362,
   "id": "3220b20e",
   "metadata": {},
   "outputs": [
    {
     "data": {
      "text/plain": [
       "(1517, 13)"
      ]
     },
     "execution_count": 362,
     "metadata": {},
     "output_type": "execute_result"
    }
   ],
   "source": [
    "df.shape"
   ]
  },
  {
   "cell_type": "markdown",
   "id": "88811a15",
   "metadata": {},
   "source": [
    "* After dropping null values we have arrived at 1517 as total rows and 13 columns"
   ]
  },
  {
   "cell_type": "code",
   "execution_count": 363,
   "id": "b8560d2d",
   "metadata": {},
   "outputs": [
    {
     "data": {
      "text/plain": [
       "year\n",
       "2015.0    1.060110\n",
       "2016.0    1.151498\n",
       "Name: AveragePrice, dtype: float64"
      ]
     },
     "execution_count": 363,
     "metadata": {},
     "output_type": "execute_result"
    }
   ],
   "source": [
    "#check the mean of price at each year of types of avacado\n",
    "df.groupby('year')['AveragePrice'].mean()"
   ]
  },
  {
   "cell_type": "markdown",
   "id": "3446dad7",
   "metadata": {},
   "source": [
    "* In above, I am finding that year 2016 is aggressive year where avacado price is higher as compared to other 2015."
   ]
  },
  {
   "cell_type": "code",
   "execution_count": 364,
   "id": "0dc3e77a",
   "metadata": {},
   "outputs": [
    {
     "data": {
      "text/plain": [
       "year    type        \n",
       "2015.0  conventional    1270\n",
       "2016.0  conventional     247\n",
       "Name: type, dtype: int64"
      ]
     },
     "execution_count": 364,
     "metadata": {},
     "output_type": "execute_result"
    }
   ],
   "source": [
    "# check how much type of avacado is sold in last 2 years.\n",
    "df.groupby('year')['type'].value_counts()"
   ]
  },
  {
   "cell_type": "markdown",
   "id": "a39ca31d",
   "metadata": {},
   "source": [
    "* In the above, we can find only one type of avacado which is highly sold in the year 2015."
   ]
  },
  {
   "cell_type": "code",
   "execution_count": 365,
   "id": "bd3ce9bb",
   "metadata": {},
   "outputs": [
    {
     "data": {
      "text/html": [
       "<div>\n",
       "<style scoped>\n",
       "    .dataframe tbody tr th:only-of-type {\n",
       "        vertical-align: middle;\n",
       "    }\n",
       "\n",
       "    .dataframe tbody tr th {\n",
       "        vertical-align: top;\n",
       "    }\n",
       "\n",
       "    .dataframe thead th {\n",
       "        text-align: right;\n",
       "    }\n",
       "</style>\n",
       "<table border=\"1\" class=\"dataframe\">\n",
       "  <thead>\n",
       "    <tr style=\"text-align: right;\">\n",
       "      <th></th>\n",
       "      <th>AveragePrice</th>\n",
       "      <th>Total Volume</th>\n",
       "      <th>4046</th>\n",
       "      <th>4225</th>\n",
       "      <th>4770</th>\n",
       "      <th>Total Bags</th>\n",
       "      <th>Small Bags</th>\n",
       "      <th>Large Bags</th>\n",
       "      <th>XLarge Bags</th>\n",
       "      <th>year</th>\n",
       "    </tr>\n",
       "  </thead>\n",
       "  <tbody>\n",
       "    <tr>\n",
       "      <th>count</th>\n",
       "      <td>1517.000000</td>\n",
       "      <td>1.517000e+03</td>\n",
       "      <td>1.517000e+03</td>\n",
       "      <td>1.517000e+03</td>\n",
       "      <td>1.517000e+03</td>\n",
       "      <td>1.517000e+03</td>\n",
       "      <td>1.517000e+03</td>\n",
       "      <td>1.517000e+03</td>\n",
       "      <td>1517.000000</td>\n",
       "      <td>1517.000000</td>\n",
       "    </tr>\n",
       "    <tr>\n",
       "      <th>mean</th>\n",
       "      <td>1.074990</td>\n",
       "      <td>1.601879e+06</td>\n",
       "      <td>6.464387e+05</td>\n",
       "      <td>6.114375e+05</td>\n",
       "      <td>5.040550e+04</td>\n",
       "      <td>2.935974e+05</td>\n",
       "      <td>2.487736e+05</td>\n",
       "      <td>4.264205e+04</td>\n",
       "      <td>2181.771074</td>\n",
       "      <td>2015.162821</td>\n",
       "    </tr>\n",
       "    <tr>\n",
       "      <th>std</th>\n",
       "      <td>0.188891</td>\n",
       "      <td>4.433143e+06</td>\n",
       "      <td>1.947614e+06</td>\n",
       "      <td>1.672906e+06</td>\n",
       "      <td>1.377812e+05</td>\n",
       "      <td>7.579765e+05</td>\n",
       "      <td>6.474765e+05</td>\n",
       "      <td>1.182157e+05</td>\n",
       "      <td>7455.712144</td>\n",
       "      <td>0.369324</td>\n",
       "    </tr>\n",
       "    <tr>\n",
       "      <th>min</th>\n",
       "      <td>0.490000</td>\n",
       "      <td>3.875074e+04</td>\n",
       "      <td>4.677200e+02</td>\n",
       "      <td>1.783770e+03</td>\n",
       "      <td>0.000000e+00</td>\n",
       "      <td>3.311770e+03</td>\n",
       "      <td>3.311770e+03</td>\n",
       "      <td>0.000000e+00</td>\n",
       "      <td>0.000000</td>\n",
       "      <td>2015.000000</td>\n",
       "    </tr>\n",
       "    <tr>\n",
       "      <th>25%</th>\n",
       "      <td>0.980000</td>\n",
       "      <td>1.474700e+05</td>\n",
       "      <td>2.040034e+04</td>\n",
       "      <td>4.147606e+04</td>\n",
       "      <td>9.112500e+02</td>\n",
       "      <td>3.620689e+04</td>\n",
       "      <td>2.972722e+04</td>\n",
       "      <td>5.407400e+02</td>\n",
       "      <td>0.000000</td>\n",
       "      <td>2015.000000</td>\n",
       "    </tr>\n",
       "    <tr>\n",
       "      <th>50%</th>\n",
       "      <td>1.080000</td>\n",
       "      <td>4.027919e+05</td>\n",
       "      <td>8.175117e+04</td>\n",
       "      <td>1.186649e+05</td>\n",
       "      <td>7.688170e+03</td>\n",
       "      <td>7.397906e+04</td>\n",
       "      <td>6.237569e+04</td>\n",
       "      <td>5.044350e+03</td>\n",
       "      <td>0.000000</td>\n",
       "      <td>2015.000000</td>\n",
       "    </tr>\n",
       "    <tr>\n",
       "      <th>75%</th>\n",
       "      <td>1.190000</td>\n",
       "      <td>9.819751e+05</td>\n",
       "      <td>3.775785e+05</td>\n",
       "      <td>4.851503e+05</td>\n",
       "      <td>2.916730e+04</td>\n",
       "      <td>1.576097e+05</td>\n",
       "      <td>1.461994e+05</td>\n",
       "      <td>2.926767e+04</td>\n",
       "      <td>401.480000</td>\n",
       "      <td>2015.000000</td>\n",
       "    </tr>\n",
       "    <tr>\n",
       "      <th>max</th>\n",
       "      <td>1.680000</td>\n",
       "      <td>4.465546e+07</td>\n",
       "      <td>1.893304e+07</td>\n",
       "      <td>1.895648e+07</td>\n",
       "      <td>1.381516e+06</td>\n",
       "      <td>6.736304e+06</td>\n",
       "      <td>5.893642e+06</td>\n",
       "      <td>1.121076e+06</td>\n",
       "      <td>108072.790000</td>\n",
       "      <td>2016.000000</td>\n",
       "    </tr>\n",
       "  </tbody>\n",
       "</table>\n",
       "</div>"
      ],
      "text/plain": [
       "       AveragePrice  Total Volume          4046          4225          4770  \\\n",
       "count   1517.000000  1.517000e+03  1.517000e+03  1.517000e+03  1.517000e+03   \n",
       "mean       1.074990  1.601879e+06  6.464387e+05  6.114375e+05  5.040550e+04   \n",
       "std        0.188891  4.433143e+06  1.947614e+06  1.672906e+06  1.377812e+05   \n",
       "min        0.490000  3.875074e+04  4.677200e+02  1.783770e+03  0.000000e+00   \n",
       "25%        0.980000  1.474700e+05  2.040034e+04  4.147606e+04  9.112500e+02   \n",
       "50%        1.080000  4.027919e+05  8.175117e+04  1.186649e+05  7.688170e+03   \n",
       "75%        1.190000  9.819751e+05  3.775785e+05  4.851503e+05  2.916730e+04   \n",
       "max        1.680000  4.465546e+07  1.893304e+07  1.895648e+07  1.381516e+06   \n",
       "\n",
       "         Total Bags    Small Bags    Large Bags    XLarge Bags         year  \n",
       "count  1.517000e+03  1.517000e+03  1.517000e+03    1517.000000  1517.000000  \n",
       "mean   2.935974e+05  2.487736e+05  4.264205e+04    2181.771074  2015.162821  \n",
       "std    7.579765e+05  6.474765e+05  1.182157e+05    7455.712144     0.369324  \n",
       "min    3.311770e+03  3.311770e+03  0.000000e+00       0.000000  2015.000000  \n",
       "25%    3.620689e+04  2.972722e+04  5.407400e+02       0.000000  2015.000000  \n",
       "50%    7.397906e+04  6.237569e+04  5.044350e+03       0.000000  2015.000000  \n",
       "75%    1.576097e+05  1.461994e+05  2.926767e+04     401.480000  2015.000000  \n",
       "max    6.736304e+06  5.893642e+06  1.121076e+06  108072.790000  2016.000000  "
      ]
     },
     "execution_count": 365,
     "metadata": {},
     "output_type": "execute_result"
    }
   ],
   "source": [
    "df.describe()"
   ]
  },
  {
   "cell_type": "markdown",
   "id": "8be766db",
   "metadata": {},
   "source": [
    "* Above statistics data show that there are multiple outliers mostly in XLarge Bags. Also, we can see the difference between mean and 50% value in most of the columns which needs to be fixed for better prediction."
   ]
  },
  {
   "cell_type": "markdown",
   "id": "534b9f1d",
   "metadata": {},
   "source": [
    "# Data Visualization"
   ]
  },
  {
   "cell_type": "markdown",
   "id": "2d85fa5c",
   "metadata": {},
   "source": [
    "* Here we try to visualize the data using difference columns and understand the dataset even better."
   ]
  },
  {
   "cell_type": "code",
   "execution_count": 366,
   "id": "e3db6ef3",
   "metadata": {},
   "outputs": [
    {
     "data": {
      "image/png": "[encoded data removed]",
      "text/plain": [
       "<Figure size 432x288 with 1 Axes>"
      ]
     },
     "metadata": {
      "needs_background": "light"
     },
     "output_type": "display_data"
    }
   ],
   "source": [
    "#Checking ratio of year and price that which year had max average price\n",
    "sns.barplot(x='year',y='AveragePrice',data=df)\n",
    "plt.show()"
   ]
  },
  {
   "cell_type": "markdown",
   "id": "14460fda",
   "metadata": {},
   "source": [
    "* As expected 2016 year is when we had max average price."
   ]
  },
  {
   "cell_type": "markdown",
   "id": "92a2419b",
   "metadata": {},
   "source": [
    "# Plotting Histogram\n",
    "\n",
    "* A histogram shows the frequency on the vertical axis and horizontal axis is another dimension. Usually it has bins, where every bin has a minimum and maximum value. Each bin also has a frequncy between x and infinite.\n",
    "\n",
    "* So in this we can also check the skewness of the features."
   ]
  },
  {
   "cell_type": "code",
   "execution_count": 367,
   "id": "afcc77e8",
   "metadata": {},
   "outputs": [
    {
     "data": {
      "image/png": "[encoded data removed]",
      "text/plain": [
       "<Figure size 1440x1440 with 16 Axes>"
      ]
     },
     "metadata": {
      "needs_background": "light"
     },
     "output_type": "display_data"
    }
   ],
   "source": [
    "df.hist(figsize=(20,20), grid=True, layout=(4,4), bins = 30)\n",
    "plt.show()"
   ]
  },
  {
   "cell_type": "markdown",
   "id": "5d0eada1",
   "metadata": {},
   "source": [
    "###### As we can see\n",
    "\n",
    "* Average price column is normally distributed\n",
    "* Rest of the date are not much varying in terms of numbers, so they are almost right skewed.\n",
    "* To make the columns as normal distributed we can use different mothods, here I am using numpy lot to make the skew values norma."
   ]
  },
  {
   "cell_type": "code",
   "execution_count": 368,
   "id": "384a64a8",
   "metadata": {},
   "outputs": [
    {
     "data": {
      "text/plain": [
       "AveragePrice   -0.109444\n",
       "Total Volume    6.200138\n",
       "4046            6.051830\n",
       "4225            6.394926\n",
       "4770            5.405164\n",
       "Total Bags      5.366378\n",
       "Small Bags      5.355185\n",
       "Large Bags      5.144495\n",
       "XLarge Bags     5.775077\n",
       "year            1.828332\n",
       "dtype: float64"
      ]
     },
     "execution_count": 368,
     "metadata": {},
     "output_type": "execute_result"
    }
   ],
   "source": [
    "df.skew()"
   ]
  },
  {
   "cell_type": "code",
   "execution_count": 369,
   "id": "3cfbf17e",
   "metadata": {},
   "outputs": [],
   "source": [
    "# make the skew less than or equal to 0.5 for better prediction and plotting normal distribution\n",
    "skew=('Total Volume','4046','4225','4770','Total Bags','Small Bags','Large Bags','XLarge Bags')\n",
    "for col in skew:\n",
    "    if df.skew().loc[col]>0.55:\n",
    "        df[col] = np.log1p(df[col])"
   ]
  },
  {
   "cell_type": "markdown",
   "id": "5033e682",
   "metadata": {},
   "source": [
    "Intially we calculated the skew value and we found that value are far from 0\n",
    "* It's always good to have skew value near to zero, so I used 'log1p' method to make the skew value near to zero.\n",
    "* Now the skew value for the features are near to zero."
   ]
  },
  {
   "cell_type": "markdown",
   "id": "5183fb7a",
   "metadata": {},
   "source": [
    "# Label Encoding:"
   ]
  },
  {
   "cell_type": "markdown",
   "id": "9038a069",
   "metadata": {},
   "source": [
    "* Converting Region and type into numeric value. Also we dropping date columns as is has no impact on the dataset.  "
   ]
  },
  {
   "cell_type": "code",
   "execution_count": 370,
   "id": "9baa5c9a",
   "metadata": {},
   "outputs": [],
   "source": [
    "df.drop('Date',axis=1, inplace=True)"
   ]
  },
  {
   "cell_type": "code",
   "execution_count": 371,
   "id": "a10114b7",
   "metadata": {},
   "outputs": [],
   "source": [
    "enc=LabelEncoder()\n",
    "df['type'] = enc.fit_transform(df['type'])"
   ]
  },
  {
   "cell_type": "code",
   "execution_count": 372,
   "id": "23186fe9",
   "metadata": {},
   "outputs": [],
   "source": [
    "df['region'] = enc.fit_transform(df['region'])"
   ]
  },
  {
   "cell_type": "code",
   "execution_count": 373,
   "id": "acc4d3bd",
   "metadata": {},
   "outputs": [
    {
     "data": {
      "text/plain": [
       "AveragePrice    float64\n",
       "Total Volume    float64\n",
       "4046            float64\n",
       "4225            float64\n",
       "4770            float64\n",
       "Total Bags      float64\n",
       "Small Bags      float64\n",
       "Large Bags      float64\n",
       "XLarge Bags     float64\n",
       "type              int32\n",
       "year            float64\n",
       "region            int32\n",
       "dtype: object"
      ]
     },
     "execution_count": 373,
     "metadata": {},
     "output_type": "execute_result"
    }
   ],
   "source": [
    "df.dtypes"
   ]
  },
  {
   "cell_type": "markdown",
   "id": "cd32b5e5",
   "metadata": {},
   "source": [
    "# Outliers"
   ]
  },
  {
   "cell_type": "markdown",
   "id": "6da55967",
   "metadata": {},
   "source": [
    "* An Outlier is data point in a data set that is distant from all other observations. A data point that lies outside the overall distribution of the dataset."
   ]
  },
  {
   "cell_type": "code",
   "execution_count": 374,
   "id": "33fca957",
   "metadata": {},
   "outputs": [
    {
     "data": {
      "image/png": "[encoded data removed]",
      "text/plain": [
       "<Figure size 1440x720 with 12 Axes>"
      ]
     },
     "metadata": {
      "needs_background": "light"
     },
     "output_type": "display_data"
    }
   ],
   "source": [
    "fig, ax = plt.subplots(ncols=6, nrows=2, figsize=(20,10))\n",
    "index = 0\n",
    "ax = ax.flatten()\n",
    "\n",
    "for col, value in df.items():\n",
    "    if col != ' types':\n",
    "        sns.boxplot(value, ax=ax[index])\n",
    "        index+= 1\n",
    "plt.tight_layout(pad=0.5,w_pad=0.7,h_pad=5.0)"
   ]
  },
  {
   "cell_type": "markdown",
   "id": "f19565ad",
   "metadata": {},
   "source": [
    "From the above image we can clearly see that there are number of number of black dots in most of the column which are referring to outlier, most of the data are outside the distribution."
   ]
  },
  {
   "cell_type": "code",
   "execution_count": 375,
   "id": "ebfa139c",
   "metadata": {},
   "outputs": [
    {
     "name": "stdout",
     "output_type": "stream",
     "text": [
      "15.808676741375358\n"
     ]
    }
   ],
   "source": [
    "print(df['Total Volume'].quantile(0.98))"
   ]
  },
  {
   "cell_type": "code",
   "execution_count": 376,
   "id": "9a7ea515",
   "metadata": {},
   "outputs": [
    {
     "name": "stdout",
     "output_type": "stream",
     "text": [
      "0.4508443892548505\n"
     ]
    }
   ],
   "source": [
    "df['Total Volume'] = np.where(df['Total Volume'] >15.808676741375358,15.808676741375358,df['Total Volume'])\n",
    "print(df['Total Volume'].skew())"
   ]
  },
  {
   "cell_type": "code",
   "execution_count": 377,
   "id": "6983fb3b",
   "metadata": {},
   "outputs": [
    {
     "name": "stdout",
     "output_type": "stream",
     "text": [
      "15.440464938177191\n"
     ]
    }
   ],
   "source": [
    "print(df['Total Bags'].quantile(.99))"
   ]
  },
  {
   "cell_type": "code",
   "execution_count": 378,
   "id": "a222e58c",
   "metadata": {},
   "outputs": [
    {
     "name": "stdout",
     "output_type": "stream",
     "text": [
      "0.4116678205163397\n"
     ]
    }
   ],
   "source": [
    "df['Total Bags'] = np.where(df['Total Bags'] >14.079848767236143,14.079848767236143,df['Total Bags'])\n",
    "print(df['Total Bags'].skew())"
   ]
  },
  {
   "cell_type": "markdown",
   "id": "8401f93e",
   "metadata": {},
   "source": [
    "# Correlation Matrix:"
   ]
  },
  {
   "cell_type": "markdown",
   "id": "5f3731c3",
   "metadata": {},
   "source": [
    "Its basically a covariance matrix. A summary measure called the correlation describe the strength of the linear association. Correllation summarizes the strength and direction of the linear line association between two quantitative variable.\n",
    "\n",
    "Now I am finding the correllation value of each column, this value is categorized into mainly 2 parts that are:\n",
    "    - Positive correlated value\n",
    "    - Negative correlated value\n",
    "\n",
    "The most the value is positive means that column in much corelated and vice versa."
   ]
  },
  {
   "cell_type": "code",
   "execution_count": 435,
   "id": "d067aab9",
   "metadata": {},
   "outputs": [
    {
     "data": {
      "text/plain": [
       "AveragePrice    1.000000\n",
       "year            0.178683\n",
       "XLarge Bags    -0.064988\n",
       "4225           -0.129466\n",
       "Small Bags     -0.149251\n",
       "Total Bags     -0.190164\n",
       "Large Bags     -0.214802\n",
       "region         -0.229408\n",
       "4770           -0.289056\n",
       "Total Volume   -0.335001\n",
       "4046           -0.511040\n",
       "Name: AveragePrice, dtype: float64"
      ]
     },
     "execution_count": 435,
     "metadata": {},
     "output_type": "execute_result"
    }
   ],
   "source": [
    "df_cor['AveragePrice'].sort_values(ascending=False)"
   ]
  },
  {
   "cell_type": "markdown",
   "id": "92283299",
   "metadata": {},
   "source": [
    "Here we notice that we dont have other type except Conventional. hence, we can remove this column as it has not importance here."
   ]
  },
  {
   "cell_type": "code",
   "execution_count": 380,
   "id": "d98bf369",
   "metadata": {},
   "outputs": [],
   "source": [
    "df.drop('type',axis=1,inplace=True)"
   ]
  },
  {
   "cell_type": "code",
   "execution_count": 392,
   "id": "0c920ca1",
   "metadata": {},
   "outputs": [
    {
     "data": {
      "text/plain": [
       "[]"
      ]
     },
     "execution_count": 392,
     "metadata": {},
     "output_type": "execute_result"
    },
    {
     "data": {
      "image/png": "[encoded data removed]",
      "text/plain": [
       "<Figure size 2160x1800 with 2 Axes>"
      ]
     },
     "metadata": {
      "needs_background": "light"
     },
     "output_type": "display_data"
    }
   ],
   "source": [
    "#checking the co-relation of all column to each other\n",
    "df_cor = df.corr()\n",
    "plt.figure(figsize=(30,25))\n",
    "sns.heatmap(df_cor,annot=True,linewidth=0.1,linecolor='white',fmt='0.2f',vmin=-1,cmap='mako')\n",
    "plt.plot()"
   ]
  },
  {
   "cell_type": "markdown",
   "id": "1ce8355f",
   "metadata": {},
   "source": [
    "# Drop and Standard Scaler:"
   ]
  },
  {
   "cell_type": "markdown",
   "id": "29eb6877",
   "metadata": {},
   "source": [
    "Heare I am making two variable x and y where x is having all column except Average Price and y is having only Rings column.\n",
    "* applying Standard scaling method on x variables."
   ]
  },
  {
   "cell_type": "code",
   "execution_count": 382,
   "id": "29e5bb53",
   "metadata": {},
   "outputs": [],
   "source": [
    "x = df.drop('AveragePrice',axis=1)\n",
    "y = df['AveragePrice']"
   ]
  },
  {
   "cell_type": "code",
   "execution_count": 393,
   "id": "1797671f",
   "metadata": {},
   "outputs": [],
   "source": [
    "# StandardScaler\n",
    "scaler = StandardScaler()\n",
    "x = pd.DataFrame(scaler.fit_transform(x),columns=x.columns)"
   ]
  },
  {
   "cell_type": "markdown",
   "id": "efbe9dc4",
   "metadata": {},
   "source": [
    "# Prediction with Average price"
   ]
  },
  {
   "cell_type": "code",
   "execution_count": 397,
   "id": "32be9480",
   "metadata": {},
   "outputs": [],
   "source": [
    "model = [DecisionTreeRegressor(),KNeighborsRegressor(),AdaBoostRegressor(),LinearRegression(),GradientBoostingRegressor()]"
   ]
  },
  {
   "cell_type": "code",
   "execution_count": 401,
   "id": "18cd229e",
   "metadata": {},
   "outputs": [
    {
     "name": "stdout",
     "output_type": "stream",
     "text": [
      "R2 score correspon to random state 40 is 0.6216379137054658\n",
      "R2 score correspon to random state 40 is 0.7560582822417163\n",
      "R2 score correspon to random state 40 is 0.5727559967189122\n",
      "R2 score correspon to random state 40 is 0.37704657199539715\n",
      "R2 score correspon to random state 40 is 0.7412217913170138\n",
      "R2 score correspon to random state 41 is 0.6555274183009094\n",
      "R2 score correspon to random state 41 is 0.7883205171125213\n",
      "R2 score correspon to random state 41 is 0.584446741960933\n",
      "R2 score correspon to random state 41 is 0.38646773895890707\n",
      "R2 score correspon to random state 41 is 0.7485728501872735\n",
      "R2 score correspon to random state 42 is 0.6266825299346416\n",
      "R2 score correspon to random state 42 is 0.7632757162742307\n",
      "R2 score correspon to random state 42 is 0.5965754701101602\n",
      "R2 score correspon to random state 42 is 0.3669065911502003\n",
      "R2 score correspon to random state 42 is 0.7426243526018623\n",
      "R2 score correspon to random state 43 is 0.6449230276282925\n",
      "R2 score correspon to random state 43 is 0.7977062463624391\n",
      "R2 score correspon to random state 43 is 0.6144475727746135\n",
      "R2 score correspon to random state 43 is 0.41237068563131696\n",
      "R2 score correspon to random state 43 is 0.751066353628344\n",
      "R2 score correspon to random state 44 is 0.4997615499649851\n",
      "R2 score correspon to random state 44 is 0.7554817979443669\n",
      "R2 score correspon to random state 44 is 0.5027865829749179\n",
      "R2 score correspon to random state 44 is 0.3242098112877073\n",
      "R2 score correspon to random state 44 is 0.6829973103208469\n",
      "R2 score correspon to random state 45 is 0.6183469496727497\n",
      "R2 score correspon to random state 45 is 0.7124801860430493\n",
      "R2 score correspon to random state 45 is 0.5656421653560751\n",
      "R2 score correspon to random state 45 is 0.31788440134176243\n",
      "R2 score correspon to random state 45 is 0.69184944861143\n",
      "R2 score correspon to random state 46 is 0.6495901085389043\n",
      "R2 score correspon to random state 46 is 0.7407500672081012\n",
      "R2 score correspon to random state 46 is 0.5854762128275927\n",
      "R2 score correspon to random state 46 is 0.34868097412459476\n",
      "R2 score correspon to random state 46 is 0.7186022165029748\n",
      "R2 score correspon to random state 47 is 0.6955539975913105\n",
      "R2 score correspon to random state 47 is 0.7768882199040721\n",
      "R2 score correspon to random state 47 is 0.6199243471156521\n",
      "R2 score correspon to random state 47 is 0.36928933203920067\n",
      "R2 score correspon to random state 47 is 0.750880122823039\n",
      "R2 score correspon to random state 48 is 0.5440001468095552\n",
      "R2 score correspon to random state 48 is 0.7498057931662147\n",
      "R2 score correspon to random state 48 is 0.5885169606027765\n",
      "R2 score correspon to random state 48 is 0.3408060849760337\n",
      "R2 score correspon to random state 48 is 0.7314084883829721\n",
      "R2 score correspon to random state 49 is 0.6550696895912659\n",
      "R2 score correspon to random state 49 is 0.7367503857423785\n",
      "R2 score correspon to random state 49 is 0.6006320284095787\n",
      "R2 score correspon to random state 49 is 0.34753928639040743\n",
      "R2 score correspon to random state 49 is 0.7197794695161912\n",
      "R2 score correspon to random state 50 is 0.6696076169302512\n",
      "R2 score correspon to random state 50 is 0.7004593458255322\n",
      "R2 score correspon to random state 50 is 0.5942567192636449\n",
      "R2 score correspon to random state 50 is 0.3244981178838764\n",
      "R2 score correspon to random state 50 is 0.703817678594872\n",
      "R2 score correspon to random state 51 is 0.6598408970376852\n",
      "R2 score correspon to random state 51 is 0.7847584844910888\n",
      "R2 score correspon to random state 51 is 0.5711151201391904\n",
      "R2 score correspon to random state 51 is 0.3812303554875035\n",
      "R2 score correspon to random state 51 is 0.7212196717159145\n",
      "R2 score correspon to random state 52 is 0.6537219660910678\n",
      "R2 score correspon to random state 52 is 0.7615657840054886\n",
      "R2 score correspon to random state 52 is 0.593999641963697\n",
      "R2 score correspon to random state 52 is 0.37306139395623894\n",
      "R2 score correspon to random state 52 is 0.7439263702796834\n",
      "R2 score correspon to random state 53 is 0.6795098863980482\n",
      "R2 score correspon to random state 53 is 0.7955573936255268\n",
      "R2 score correspon to random state 53 is 0.5891802290529882\n",
      "R2 score correspon to random state 53 is 0.39274860000388767\n",
      "R2 score correspon to random state 53 is 0.7430372783285705\n",
      "R2 score correspon to random state 54 is 0.615635945952762\n",
      "R2 score correspon to random state 54 is 0.7724520790243772\n",
      "R2 score correspon to random state 54 is 0.562105950131929\n",
      "R2 score correspon to random state 54 is 0.3964607636402593\n",
      "R2 score correspon to random state 54 is 0.7160103767040631\n",
      "R2 score correspon to random state 55 is 0.5507996383109923\n",
      "R2 score correspon to random state 55 is 0.7533407713150532\n",
      "R2 score correspon to random state 55 is 0.5950443123607849\n",
      "R2 score correspon to random state 55 is 0.4025755796360022\n",
      "R2 score correspon to random state 55 is 0.7407212156453091\n",
      "R2 score correspon to random state 56 is 0.40115158364173764\n",
      "R2 score correspon to random state 56 is 0.7534974352560453\n",
      "R2 score correspon to random state 56 is 0.5349129664986578\n",
      "R2 score correspon to random state 56 is 0.28703309396006293\n",
      "R2 score correspon to random state 56 is 0.6800331312320697\n",
      "R2 score correspon to random state 57 is 0.6391044453304968\n",
      "R2 score correspon to random state 57 is 0.7564113562553949\n",
      "R2 score correspon to random state 57 is 0.6264007901474764\n",
      "R2 score correspon to random state 57 is 0.38392958239498065\n",
      "R2 score correspon to random state 57 is 0.7375882829576981\n",
      "R2 score correspon to random state 58 is 0.5737186439245798\n",
      "R2 score correspon to random state 58 is 0.7470182446554949\n",
      "R2 score correspon to random state 58 is 0.5771767028123447\n",
      "R2 score correspon to random state 58 is 0.3371677770658805\n",
      "R2 score correspon to random state 58 is 0.720453331335658\n",
      "R2 score correspon to random state 59 is 0.6745116626257722\n",
      "R2 score correspon to random state 59 is 0.7915686812932013\n",
      "R2 score correspon to random state 59 is 0.5733946193069801\n",
      "R2 score correspon to random state 59 is 0.34415255090044505\n",
      "R2 score correspon to random state 59 is 0.721172928694219\n",
      "R2 score correspon to random state 60 is 0.6670219148474399\n",
      "R2 score correspon to random state 60 is 0.7918415140704678\n",
      "R2 score correspon to random state 60 is 0.6192877593618646\n",
      "R2 score correspon to random state 60 is 0.38909992738553434\n",
      "R2 score correspon to random state 60 is 0.7696973260873472\n",
      "R2 score correspon to random state 61 is 0.5746248973373393\n",
      "R2 score correspon to random state 61 is 0.7210153930196006\n",
      "R2 score correspon to random state 61 is 0.5916052711690061\n",
      "R2 score correspon to random state 61 is 0.3388915687378088\n",
      "R2 score correspon to random state 61 is 0.6657878732675581\n",
      "R2 score correspon to random state 62 is 0.5758652960629453\n",
      "R2 score correspon to random state 62 is 0.7555786846471796\n",
      "R2 score correspon to random state 62 is 0.5276126240939781\n",
      "R2 score correspon to random state 62 is 0.34694670943233563\n",
      "R2 score correspon to random state 62 is 0.7047621902718594\n",
      "R2 score correspon to random state 63 is 0.6525674348363553\n",
      "R2 score correspon to random state 63 is 0.7514358316969163\n",
      "R2 score correspon to random state 63 is 0.5750002545181423\n",
      "R2 score correspon to random state 63 is 0.3915460802121329\n",
      "R2 score correspon to random state 63 is 0.7254212901063692\n",
      "R2 score correspon to random state 64 is 0.6082012095554592\n",
      "R2 score correspon to random state 64 is 0.7394116916940867\n",
      "R2 score correspon to random state 64 is 0.5712157179456614\n",
      "R2 score correspon to random state 64 is 0.39220048098923144\n",
      "R2 score correspon to random state 64 is 0.7190938841200966\n",
      "R2 score correspon to random state 65 is 0.5868854149011605\n",
      "R2 score correspon to random state 65 is 0.7320955081719429\n",
      "R2 score correspon to random state 65 is 0.5687564717836737\n",
      "R2 score correspon to random state 65 is 0.3523150016849521\n",
      "R2 score correspon to random state 65 is 0.7067291075391835\n",
      "R2 score correspon to random state 66 is 0.66290161838579\n",
      "R2 score correspon to random state 66 is 0.7558579454664092\n",
      "R2 score correspon to random state 66 is 0.5787367812994388\n",
      "R2 score correspon to random state 66 is 0.35177641468510656\n",
      "R2 score correspon to random state 66 is 0.7332858285758195\n",
      "R2 score correspon to random state 67 is 0.6442015890502566\n",
      "R2 score correspon to random state 67 is 0.762743189141226\n",
      "R2 score correspon to random state 67 is 0.5942668375169553\n",
      "R2 score correspon to random state 67 is 0.38222504168409877\n"
     ]
    },
    {
     "name": "stdout",
     "output_type": "stream",
     "text": [
      "R2 score correspon to random state 67 is 0.7184153846778023\n",
      "R2 score correspon to random state 68 is 0.6664351677163243\n",
      "R2 score correspon to random state 68 is 0.7810248882777837\n",
      "R2 score correspon to random state 68 is 0.6337423882795776\n",
      "R2 score correspon to random state 68 is 0.4018710641627754\n",
      "R2 score correspon to random state 68 is 0.7770636525590386\n",
      "R2 score correspon to random state 69 is 0.619115620583256\n",
      "R2 score correspon to random state 69 is 0.7160175877943054\n",
      "R2 score correspon to random state 69 is 0.5559025977680248\n",
      "R2 score correspon to random state 69 is 0.3596399127093033\n",
      "R2 score correspon to random state 69 is 0.7113914154312377\n",
      "R2 score correspon to random state 70 is 0.6351606540228849\n",
      "R2 score correspon to random state 70 is 0.7441635338345864\n",
      "R2 score correspon to random state 70 is 0.5708858706154211\n",
      "R2 score correspon to random state 70 is 0.34296453716479447\n",
      "R2 score correspon to random state 70 is 0.7192719135768856\n",
      "R2 score correspon to random state 71 is 0.5361063773306752\n",
      "R2 score correspon to random state 71 is 0.757652204107348\n",
      "R2 score correspon to random state 71 is 0.5741184093094849\n",
      "R2 score correspon to random state 71 is 0.3844262948092324\n",
      "R2 score correspon to random state 71 is 0.7146573020901845\n",
      "R2 score correspon to random state 72 is 0.6598825065741882\n",
      "R2 score correspon to random state 72 is 0.7359477789314339\n",
      "R2 score correspon to random state 72 is 0.5347151565756916\n",
      "R2 score correspon to random state 72 is 0.34805318409049124\n",
      "R2 score correspon to random state 72 is 0.6954921879660203\n",
      "R2 score correspon to random state 73 is 0.5969575814419905\n",
      "R2 score correspon to random state 73 is 0.722938689991852\n",
      "R2 score correspon to random state 73 is 0.6003432330574457\n",
      "R2 score correspon to random state 73 is 0.3765440299034122\n",
      "R2 score correspon to random state 73 is 0.731274291878918\n",
      "R2 score correspon to random state 74 is 0.6895390474878171\n",
      "R2 score correspon to random state 74 is 0.78309391300599\n",
      "R2 score correspon to random state 74 is 0.5819092294746349\n",
      "R2 score correspon to random state 74 is 0.3672245389926927\n",
      "R2 score correspon to random state 74 is 0.7210991572224614\n",
      "R2 score correspon to random state 75 is 0.647475001321832\n",
      "R2 score correspon to random state 75 is 0.8067987983423908\n",
      "R2 score correspon to random state 75 is 0.5969269446587968\n",
      "R2 score correspon to random state 75 is 0.36085951785302284\n",
      "R2 score correspon to random state 75 is 0.7348204625381647\n",
      "R2 score correspon to random state 76 is 0.6709320487032506\n",
      "R2 score correspon to random state 76 is 0.7316011358579004\n",
      "R2 score correspon to random state 76 is 0.5689668141155158\n",
      "R2 score correspon to random state 76 is 0.3798190361683845\n",
      "R2 score correspon to random state 76 is 0.7007991397014665\n",
      "R2 score correspon to random state 77 is 0.5766330822805464\n",
      "R2 score correspon to random state 77 is 0.7428179244233273\n",
      "R2 score correspon to random state 77 is 0.5869817071689757\n",
      "R2 score correspon to random state 77 is 0.28290953082070835\n",
      "R2 score correspon to random state 77 is 0.7043298387945396\n",
      "R2 score correspon to random state 78 is 0.5799577939980485\n",
      "R2 score correspon to random state 78 is 0.7307748060994801\n",
      "R2 score correspon to random state 78 is 0.6228888847193519\n",
      "R2 score correspon to random state 78 is 0.36943623310798346\n",
      "R2 score correspon to random state 78 is 0.7297517731243224\n",
      "R2 score correspon to random state 79 is 0.6748954992437979\n",
      "R2 score correspon to random state 79 is 0.7616479757615695\n",
      "R2 score correspon to random state 79 is 0.6068285850664086\n",
      "R2 score correspon to random state 79 is 0.38639665233009357\n",
      "R2 score correspon to random state 79 is 0.7342096870719147\n",
      "R2 score correspon to random state 80 is 0.6224931006104701\n",
      "R2 score correspon to random state 80 is 0.729709563781239\n",
      "R2 score correspon to random state 80 is 0.5807998681553324\n",
      "R2 score correspon to random state 80 is 0.3863103103899044\n",
      "R2 score correspon to random state 80 is 0.7187294477708057\n",
      "R2 score correspon to random state 81 is 0.5646449382095351\n",
      "R2 score correspon to random state 81 is 0.7161642480036376\n",
      "R2 score correspon to random state 81 is 0.5596633198618164\n",
      "R2 score correspon to random state 81 is 0.33846155968789904\n",
      "R2 score correspon to random state 81 is 0.6911594755600906\n",
      "R2 score correspon to random state 82 is 0.6622617028527409\n",
      "R2 score correspon to random state 82 is 0.7668640783120635\n",
      "R2 score correspon to random state 82 is 0.6073607242530645\n",
      "R2 score correspon to random state 82 is 0.4173442189950861\n",
      "R2 score correspon to random state 82 is 0.7503189552145281\n",
      "R2 score correspon to random state 83 is 0.4838506604309074\n",
      "R2 score correspon to random state 83 is 0.6699054828605417\n",
      "R2 score correspon to random state 83 is 0.5652358849265235\n",
      "R2 score correspon to random state 83 is 0.2591940113900111\n",
      "R2 score correspon to random state 83 is 0.7063288032141295\n",
      "R2 score correspon to random state 84 is 0.6347380496140398\n",
      "R2 score correspon to random state 84 is 0.7321031234164166\n",
      "R2 score correspon to random state 84 is 0.5763839815635987\n",
      "R2 score correspon to random state 84 is 0.3895464237637092\n",
      "R2 score correspon to random state 84 is 0.7028216260832789\n",
      "R2 score correspon to random state 85 is 0.6644289271258534\n",
      "R2 score correspon to random state 85 is 0.7661878800158741\n",
      "R2 score correspon to random state 85 is 0.6053597457583269\n",
      "R2 score correspon to random state 85 is 0.3542804269257689\n",
      "R2 score correspon to random state 85 is 0.7377739109162758\n",
      "R2 score correspon to random state 86 is 0.6370558518281453\n",
      "R2 score correspon to random state 86 is 0.7324405691240845\n",
      "R2 score correspon to random state 86 is 0.5516154605215242\n",
      "R2 score correspon to random state 86 is 0.33391630806286476\n",
      "R2 score correspon to random state 86 is 0.6804861367121373\n",
      "R2 score correspon to random state 87 is 0.6621334459005264\n",
      "R2 score correspon to random state 87 is 0.7979420454010742\n",
      "R2 score correspon to random state 87 is 0.617439193128094\n",
      "R2 score correspon to random state 87 is 0.3846243828115904\n",
      "R2 score correspon to random state 87 is 0.7431540592755309\n",
      "R2 score correspon to random state 88 is 0.6338748819722636\n",
      "R2 score correspon to random state 88 is 0.7454593817990824\n",
      "R2 score correspon to random state 88 is 0.5892315442292243\n",
      "R2 score correspon to random state 88 is 0.329648184068563\n",
      "R2 score correspon to random state 88 is 0.7385136281794029\n",
      "R2 score correspon to random state 89 is 0.5867229273114054\n",
      "R2 score correspon to random state 89 is 0.7540520477089221\n",
      "R2 score correspon to random state 89 is 0.580381586011714\n",
      "R2 score correspon to random state 89 is 0.404878550679048\n",
      "R2 score correspon to random state 89 is 0.7060677756236537\n",
      "\n",
      "\n",
      "\n",
      "\n",
      "max R2 score correspond to random staate 75 is 0.8067987983423908 and model is KNeighborsRegressor()\n"
     ]
    }
   ],
   "source": [
    "max_r2_score = 0\n",
    "for r_state in range(40,90):\n",
    "    x_train,x_test,y_train,y_test = train_test_split(x,y,test_size=0.33,random_state=r_state)\n",
    "    for i in model:\n",
    "        i.fit(x_train,y_train)\n",
    "        pred = i.predict(x_test)\n",
    "        r2_sc = r2_score(y_test,pred)\n",
    "        print('R2 score correspon to random state',r_state, 'is', r2_sc)\n",
    "        if r2_sc>max_r2_score:\n",
    "            max_r2_score=r2_sc\n",
    "            final_state=r_state\n",
    "            final_model=i\n",
    "\n",
    "print()\n",
    "print()\n",
    "print()\n",
    "print()\n",
    "print('max R2 score correspond to random staate', final_state, 'is', max_r2_score,'and model is',final_model)"
   ]
  },
  {
   "cell_type": "markdown",
   "id": "8394dbd8",
   "metadata": {},
   "source": [
    "Above I have looped the variables which helped me to provide R2 score at each random state and for the best state wher R2 score is maximum is coming as output"
   ]
  },
  {
   "cell_type": "code",
   "execution_count": 418,
   "id": "3fc9895d",
   "metadata": {},
   "outputs": [
    {
     "data": {
      "text/plain": [
       "{'n_neighbors': 2}"
      ]
     },
     "execution_count": 418,
     "metadata": {},
     "output_type": "execute_result"
    }
   ],
   "source": [
    "#Checking the best parameter for prediction of KNeighborRegressor also using GridSearchCV\n",
    "x_train,x_test,y_train,y_test = train_test_split(x,y,test_size=0.33,random_state=75)\n",
    "KNN=KNeighborsRegressor()\n",
    "parameter = {'n_neighbors':range(1,30)}\n",
    "gridsearch=GridSearchCV(KN,parameter)\n",
    "gridsearch.fit(x_train,y_train)\n",
    "gridsearch.best_params_"
   ]
  },
  {
   "cell_type": "code",
   "execution_count": 406,
   "id": "08cf4495",
   "metadata": {},
   "outputs": [
    {
     "name": "stdout",
     "output_type": "stream",
     "text": [
      "R2 score: 83.60974854796494\n"
     ]
    }
   ],
   "source": [
    "KNN = KNeighborsRegressor(n_neighbors=2)\n",
    "KNN.fit(x_train,y_train)\n",
    "pred = KNN.predict(x_test)\n",
    "r2_sc = r2_score(y_test,pred)\n",
    "print('R2 score:',r2_sc*100)"
   ]
  },
  {
   "cell_type": "code",
   "execution_count": 409,
   "id": "446acd6e",
   "metadata": {},
   "outputs": [
    {
     "name": "stdout",
     "output_type": "stream",
     "text": [
      "Mean Absolute Error: 0.05890219560878243\n",
      "Mean Squared Error: 0.006100998003992015\n",
      "Root Mean Absolute Error: 0.2426977453722684\n"
     ]
    }
   ],
   "source": [
    "from sklearn.metrics import mean_absolute_error\n",
    "from sklearn.metrics import mean_squared_error\n",
    "print('Mean Absolute Error:',mean_absolute_error(y_test,pred))\n",
    "print('Mean Squared Error:',mean_squared_error(y_test,pred))\n",
    "print('Root Mean Absolute Error:',np.sqrt(mean_absolute_error(y_test,pred)))"
   ]
  },
  {
   "cell_type": "code",
   "execution_count": 410,
   "id": "99a86fe3",
   "metadata": {},
   "outputs": [
    {
     "data": {
      "text/plain": [
       "Text(0, 0.5, 'Predicted_y')"
      ]
     },
     "execution_count": 410,
     "metadata": {},
     "output_type": "execute_result"
    },
    {
     "data": {
      "image/png": "[encoded data removed]",
      "text/plain": [
       "<Figure size 432x288 with 1 Axes>"
      ]
     },
     "metadata": {
      "needs_background": "light"
     },
     "output_type": "display_data"
    }
   ],
   "source": [
    "#Checking the diff between actual and predicted value using graph\n",
    "plt.scatter(x=y_test,y=pred)\n",
    "plt.xlabel('y_test')\n",
    "plt.ylabel('Predicted_y')"
   ]
  },
  {
   "cell_type": "code",
   "execution_count": 411,
   "id": "00d5f79d",
   "metadata": {},
   "outputs": [
    {
     "data": {
      "text/plain": [
       "[<matplotlib.lines.Line2D at 0x1cf6429e948>]"
      ]
     },
     "execution_count": 411,
     "metadata": {},
     "output_type": "execute_result"
    },
    {
     "data": {
      "image/png": "[encoded data removed]",
      "text/plain": [
       "<Figure size 432x288 with 1 Axes>"
      ]
     },
     "metadata": {
      "needs_background": "light"
     },
     "output_type": "display_data"
    }
   ],
   "source": [
    "plt.scatter(x=y_test,y=pred, color='r')\n",
    "plt.plot(y_test,y_test,color='b')"
   ]
  },
  {
   "cell_type": "markdown",
   "id": "b7e20d18",
   "metadata": {},
   "source": [
    "# Prediction\n",
    "\n",
    "* Since the target variable is contineous in nature, I have used regression technique\n",
    "* While calculating the best random state 75 is the best state which providing the highest R2 score value for this model.\n",
    "* After using the GridSearchCV, I could find the best param and then used the same for that model.\n",
    "* Post using the best param I found the best R2 score i.e. 83.60% with the model KNeighborRegressor.\n",
    "* Also, plotted the graph and we can see that the actual value and predicted value are very close to each other, so the line is best fit line."
   ]
  },
  {
   "cell_type": "markdown",
   "id": "3a4a3ab2",
   "metadata": {},
   "source": [
    "# Observations\n",
    "\n",
    "* I had used LabelEncoder to make the categorical data into numeric data.\n",
    "* R2 score value value is greater than the accuracy score.\n",
    "* There were minimal outliers after preprocessing the data."
   ]
  },
  {
   "cell_type": "markdown",
   "id": "a7d66b80",
   "metadata": {},
   "source": [
    "# Saving the model"
   ]
  },
  {
   "cell_type": "code",
   "execution_count": 436,
   "id": "648f13e9",
   "metadata": {},
   "outputs": [],
   "source": [
    "import pickle\n",
    "filename = 'Avacado.pkl'\n",
    "pickle.dump(KNN,open(filename,'wb'))"
   ]
  }
 ],
 "metadata": {
  "kernelspec": {
   "display_name": "Python 3",
   "language": "python",
   "name": "python3"
  },
  "language_info": {
   "codemirror_mode": {
    "name": "ipython",
    "version": 3
   },
   "file_extension": ".py",
   "mimetype": "text/x-python",
   "name": "python",
   "nbconvert_exporter": "python",
   "pygments_lexer": "ipython3",
   "version": "3.7.10"
  }
 },
 "nbformat": 4,
 "nbformat_minor": 5
}
